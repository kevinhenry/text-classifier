{
  "nbformat": 4,
  "nbformat_minor": 0,
  "metadata": {
    "colab": {
      "name": "text_classifier.ipynb",
      "provenance": [],
      "authorship_tag": "ABX9TyNfjIxKCF9E8aSo0dghuanG",
      "include_colab_link": true
    },
    "kernelspec": {
      "name": "python3",
      "display_name": "Python 3"
    },
    "language_info": {
      "name": "python"
    }
  },
  "cells": [
    {
      "cell_type": "markdown",
      "metadata": {
        "id": "view-in-github",
        "colab_type": "text"
      },
      "source": [
        "<a href=\"https://colab.research.google.com/github/kevinhenry/text-classifier/blob/main/text_classifier.ipynb\" target=\"_parent\"><img src=\"https://colab.research.google.com/assets/colab-badge.svg\" alt=\"Open In Colab\"/></a>"
      ]
    },
    {
      "cell_type": "code",
      "metadata": {
        "colab": {
          "base_uri": "https://localhost:8080/"
        },
        "id": "wgUK4_lAv-ra",
        "outputId": "67a87822-06ff-48d2-ba6b-0d8a51e2c378"
      },
      "source": [
        "import pandas as pd\n",
        "\n",
        "filepath_dict = {'yelp':   'data/sentiment_analysis/yelp_labelled.txt',\n",
        "                 'amazon': 'data/sentiment_analysis/amazon_cells_labelled.txt',\n",
        "                 'imdb':   'data/sentiment_analysis/imdb_labelled.txt'}\n",
        "\n",
        "df_list = []\n",
        "for source, filepath in filepath_dict.items():\n",
        "    df = pd.read_csv(filepath, names=['sentence', 'label'], sep='\\t')\n",
        "    df['source'] = source  # Add another column filled with the source name\n",
        "    df_list.append(df)\n",
        "\n",
        "df = pd.concat(df_list)\n",
        "print(df.iloc[0])"
      ],
      "execution_count": 6,
      "outputs": [
        {
          "output_type": "stream",
          "text": [
            "sentence    Wow... Loved this place.\n",
            "label                              1\n",
            "source                          yelp\n",
            "Name: 0, dtype: object\n"
          ],
          "name": "stdout"
        }
      ]
    }
  ]
}